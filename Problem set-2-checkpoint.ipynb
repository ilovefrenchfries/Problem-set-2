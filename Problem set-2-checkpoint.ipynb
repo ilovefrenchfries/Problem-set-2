{
 "cells": [
  {
   "cell_type": "markdown",
   "id": "c96b77bb",
   "metadata": {},
   "source": [
    "### Question no.1"
   ]
  },
  {
   "cell_type": "code",
   "execution_count": 1,
   "id": "1ecf5b26",
   "metadata": {},
   "outputs": [
    {
     "data": {
      "text/plain": [
       "6"
      ]
     },
     "execution_count": 1,
     "metadata": {},
     "output_type": "execute_result"
    }
   ],
   "source": [
    "a=0\n",
    "def b():\n",
    "    global a\n",
    "    a=c(a)\n",
    "    \n",
    "def c(a):\n",
    "    return a+2\n",
    "\n",
    "b()\n",
    "b()\n",
    "b()\n",
    "a"
   ]
  },
  {
   "cell_type": "markdown",
   "id": "27c2edef",
   "metadata": {},
   "source": [
    "6 is displayed when the last expression (a) is executed. When b() is executed for the first time, the value of 'a' is 2 as c() function is called and when b() is executed for the second time, the value of 'a' is 4 and finally, when b() is executed 'a' holds the value of 6 as 2 is added to it's preceeding value i.e. 4."
   ]
  },
  {
   "cell_type": "markdown",
   "id": "44e4311d",
   "metadata": {},
   "source": [
    "### Question no.2"
   ]
  },
  {
   "cell_type": "code",
   "execution_count": 12,
   "id": "208b7971",
   "metadata": {},
   "outputs": [
    {
     "name": "stdout",
     "output_type": "stream",
     "text": [
      "The given file length is : 813\n",
      "File idterm.py not found.\n"
     ]
    }
   ],
   "source": [
    "def file_length(f):\n",
    "    try:\n",
    "        file = open(f,'r')\n",
    "        contents = file.read()\n",
    "        print('The given file length is : ' + str(len(contents)))\n",
    "        file.close()\n",
    "    except FileNotFoundError:\n",
    "        print('File '+f+' not found.')\n",
    "        \n",
    "file_length('midterm.ipynb')\n",
    "file_length('idterm.py')"
   ]
  },
  {
   "cell_type": "markdown",
   "id": "14eee0dd",
   "metadata": {},
   "source": [
    "### Question no.3"
   ]
  },
  {
   "cell_type": "code",
   "execution_count": 14,
   "id": "aaa8fc96",
   "metadata": {},
   "outputs": [
    {
     "name": "stdout",
     "output_type": "stream",
     "text": [
      "I am a Kagaroo located at coordinates (0,0)\n",
      "['doll', 'firetruck', 'kitten']\n",
      "I am a Kagaroo located at coordinates (3,0)\n"
     ]
    }
   ],
   "source": [
    "class Marsupials:\n",
    "    def __init__(self):\n",
    "        self.myList = []\n",
    "        \n",
    "    def put_in_pouch(self, item):\n",
    "        self.myList.append(item)\n",
    "        \n",
    "    def pouch_contents(self):\n",
    "        return self.myList\n",
    "    \n",
    "m = Marsupials()\n",
    "m.put_in_pouch('doll')\n",
    "m.put_in_pouch('firetruck')\n",
    "m.put_in_pouch('kitten')\n",
    "m.pouch_contents()\n",
    "\n",
    "\n",
    "class Kangaroo(Marsupials):\n",
    "    def __init__(self,x,y):\n",
    "        Marsupials.__init__(self)\n",
    "        self.x = x\n",
    "        self.y = y\n",
    "        \n",
    "    def jump(self,dx,dy):\n",
    "        self.x = self.x + dx\n",
    "        self.y = self.y + dy\n",
    "        \n",
    "    def __str__(self):\n",
    "        return 'I am a Kagaroo located at coordinates ({},{})'.format(self.x,self.y)\n",
    "\n",
    "k = Kangaroo(0,0)\n",
    "print(k)\n",
    "k.put_in_pouch('doll')\n",
    "k.put_in_pouch('firetruck')\n",
    "k.put_in_pouch('kitten')\n",
    "print(k.pouch_contents())\n",
    "k.jump(1,0)\n",
    "k.jump(1,0)\n",
    "k.jump(1,0)\n",
    "print(k)"
   ]
  },
  {
   "cell_type": "markdown",
   "id": "2b166878",
   "metadata": {},
   "source": [
    "### Question no.4"
   ]
  },
  {
   "cell_type": "code",
   "execution_count": 4,
   "id": "00ba2099",
   "metadata": {},
   "outputs": [
    {
     "name": "stdout",
     "output_type": "stream",
     "text": [
      "1\n",
      "10\n",
      "5\n",
      "16\n",
      "8\n",
      "4\n",
      "2\n",
      "1\n"
     ]
    }
   ],
   "source": [
    "def collatz(x):\n",
    "    if x != 1:\n",
    "        if x%2!= 0:\n",
    "            print(int(x))\n",
    "            collatz(3*x+1)\n",
    "        else:\n",
    "            print(int(x))\n",
    "            collatz(x/2)\n",
    "    else:\n",
    "        print(int(x))\n",
    "        \n",
    "collatz(1)\n",
    "collatz(10)"
   ]
  },
  {
   "cell_type": "markdown",
   "id": "85f8fe06",
   "metadata": {},
   "source": [
    "### Question no.5"
   ]
  },
  {
   "cell_type": "code",
   "execution_count": 4,
   "id": "b1201db6",
   "metadata": {},
   "outputs": [
    {
     "data": {
      "text/plain": [
       "1001"
      ]
     },
     "execution_count": 4,
     "metadata": {},
     "output_type": "execute_result"
    }
   ],
   "source": [
    "def binary(decimal):\n",
    "    if decimal>0:\n",
    "        return (decimal % 2 + 10*binary(int(decimal //2)))\n",
    "    else:\n",
    "        return 0\n",
    "    \n",
    "binary(0)\n",
    "binary(1)\n",
    "binary(3)\n",
    "binary(9)"
   ]
  },
  {
   "cell_type": "markdown",
   "id": "e1193e55",
   "metadata": {},
   "source": [
    "### Question no.6"
   ]
  },
  {
   "cell_type": "code",
   "execution_count": 2,
   "id": "295c9025",
   "metadata": {},
   "outputs": [
    {
     "name": "stdout",
     "output_type": "stream",
     "text": [
      "W3C Mission\n",
      "Principles\n"
     ]
    }
   ],
   "source": [
    "from html.parser import HTMLParser\n",
    "class HeadingParser(HTMLParser):\n",
    "    def __init__(self):\n",
    "        HTMLParser.__init__(self)\n",
    "        self.intend = ''\n",
    "        self.head = 0\n",
    "        \n",
    "    def handle_starttag(self, tag, attrs):\n",
    "        if tag[:-1]=='h':\n",
    "            self.head = 'type'\n",
    "            \n",
    "    def handle_data(self, data):\n",
    "        if self.head=='type':\n",
    "            print(self.intend+data)\n",
    "            self.intend+= ''\n",
    "            self.head = 0\n",
    "\n",
    "infile = open('w3c.html')\n",
    "content = infile.read()\n",
    "infile.close()\n",
    "hp = HeadingParser()\n",
    "hp.feed(content)"
   ]
  },
  {
   "cell_type": "markdown",
   "id": "a8887b7e",
   "metadata": {},
   "source": [
    "### Question no.7"
   ]
  },
  {
   "cell_type": "code",
   "execution_count": 25,
   "id": "2c8f6ebf",
   "metadata": {},
   "outputs": [
    {
     "name": "stdout",
     "output_type": "stream",
     "text": [
      " http://reed.cs.depaul.edu/lperkovic/test1.html\n",
      "     http://reed.cs.depaul.edu/lperkovic/test2.html\n",
      "         http://reed.cs.depaul.edu/lperkovic/test4.html\n",
      "     http://reed.cs.depaul.edu/lperkovic/test3.html\n",
      "         http://reed.cs.depaul.edu/lperkovic/test4.html\n"
     ]
    }
   ],
   "source": [
    "from html.parser import HTMLParser\n",
    "from urllib.request import urlopen\n",
    "from urllib.parse import urljoin\n",
    "\n",
    "class collector(HTMLParser):\n",
    "    def __init__(self, url):\n",
    "        HTMLParser.__init__(self)\n",
    "        self.url = url\n",
    "        self.links = []\n",
    "        \n",
    "    def append(self):\n",
    "        return self.links\n",
    "    \n",
    "    def handle_starttag(self, tag, attributes):\n",
    "        for attr in attributes:\n",
    "            if attr[0] == 'href':\n",
    "                mylink = urljoin(self.url, attr[1])\n",
    "                if mylink[:4] == 'http':\n",
    "                    self.links.append(mylink)\n",
    "\n",
    "class urlcollector(collector):\n",
    "    def handle_starttag(self, tag, atributes):\n",
    "        if tag =='a':\n",
    "            for attr in attributes:\n",
    "                if attr[0] == 'href':\n",
    "                    url = url.join(self.url, attr[1])\n",
    "                    if url not in self.links:\n",
    "                        self.links.append(url)\n",
    "                        \n",
    "                        \n",
    "def webdir(url, depth, i):\n",
    "    depth = depth -1\n",
    "    print(i*' ', url)\n",
    "    \n",
    "    objective = urlopen(url).read().decode()\n",
    "    collection = collector(url)\n",
    "    collection.feed(objective)\n",
    "    urls = collection.append()\n",
    "    \n",
    "    links = urls\n",
    "    i = i+4\n",
    "    \n",
    "    for link in links:\n",
    "        if depth < 0 or i < 0:\n",
    "            return 1\n",
    "        else:\n",
    "            webdir(link, depth, i)\n",
    "webdir('http://reed.cs.depaul.edu/lperkovic/test1.html', 2, 0)"
   ]
  },
  {
   "cell_type": "markdown",
   "id": "d552347f",
   "metadata": {},
   "source": [
    "### Question  no.8"
   ]
  },
  {
   "cell_type": "code",
   "execution_count": 1,
   "id": "e09595ba",
   "metadata": {},
   "outputs": [
    {
     "data": {
      "text/plain": [
       "<sqlite3.Cursor at 0x2215a52b260>"
      ]
     },
     "execution_count": 1,
     "metadata": {},
     "output_type": "execute_result"
    }
   ],
   "source": [
    "import sqlite3\n",
    "conn = sqlite3.connect('database.db')\n",
    "cur = conn.cursor()\n",
    "cur.execute(\"CREATE TABLE Climate (City, Country, Season, Temperature, Rainfall)\")\n"
   ]
  },
  {
   "cell_type": "code",
   "execution_count": 3,
   "id": "18673deb",
   "metadata": {},
   "outputs": [
    {
     "data": {
      "text/plain": [
       "<sqlite3.Cursor at 0x2215a52b260>"
      ]
     },
     "execution_count": 3,
     "metadata": {},
     "output_type": "execute_result"
    }
   ],
   "source": [
    "cur.execute(\"INSERT INTO Climate VALUES('Mumbai', 'India', 'Winter', 24.8, 5.9)\")\n",
    "cur.execute(\"INSERT INTO Climate VALUES('Mumbai', 'India', 'Spring', 28.4, 16.2)\")\n",
    "cur.execute(\"INSERT INTO Climate VALUES('Mumbai', 'India', 'Summer', 27.9, 1549.4)\")\n",
    "cur.execute(\"INSERT INTO Climate VALUES('Mumbai', 'India', 'Fall', 27.6, 346.0)\")\n",
    "cur.execute(\"INSERT INTO Climate VALUES('London', 'United Kingdom', 'Winter', 4.2, 207.7)\")\n",
    "cur.execute(\"INSERT INTO Climate VALUES('London', 'United Kingdom', 'Spring', 8.3, 169.6)\")\n",
    "cur.execute(\"INSERT INTO Climate VALUES('London', 'United Kingdom', 'Summer', 15.7, 157.0)\")\n",
    "cur.execute(\"INSERT INTO Climate VALUES('London', 'United Kingdom', 'Fall', 10.4, 218.5)\")\n",
    "cur.execute(\"INSERT INTO Climate VALUES('Cairo', 'Egypt', 'Winter', 13.6, 16.5)\")\n",
    "cur.execute(\"INSERT INTO Climate VALUES('Cairo', 'Egypt', 'Spring', 20.7, 6.5)\")\n",
    "cur.execute(\"INSERT INTO Climate VALUES('Cairo', 'Egypt', 'Summer', 27.7, 0.1)\")\n",
    "cur.execute(\"INSERT INTO Climate VALUES('Cairo', 'Egypt', 'Fall', 22.2, 4.5)\")"
   ]
  },
  {
   "cell_type": "code",
   "execution_count": 5,
   "id": "50961673",
   "metadata": {},
   "outputs": [
    {
     "name": "stdout",
     "output_type": "stream",
     "text": [
      "(24.8,)\n",
      "(28.4,)\n",
      "(27.9,)\n",
      "(27.6,)\n",
      "(4.2,)\n",
      "(8.3,)\n",
      "(15.7,)\n",
      "(10.4,)\n",
      "(24.8,)\n",
      "(28.4,)\n",
      "(27.9,)\n",
      "(27.6,)\n",
      "(4.2,)\n",
      "(8.3,)\n",
      "(15.7,)\n",
      "(10.4,)\n",
      "(13.6,)\n",
      "(20.7,)\n",
      "(27.7,)\n",
      "(22.2,)\n"
     ]
    }
   ],
   "source": [
    "cur.execute(\"SELECT Temperature FROM Climate\")\n",
    "for record in cur:\n",
    "    print(record)\n"
   ]
  },
  {
   "cell_type": "code",
   "execution_count": 6,
   "id": "b74b8505",
   "metadata": {},
   "outputs": [
    {
     "name": "stdout",
     "output_type": "stream",
     "text": [
      "('Mumbai',)\n",
      "('London',)\n",
      "('Cairo',)\n"
     ]
    }
   ],
   "source": [
    "cur.execute(\"SELECT DISTINCT City FROM Climate\")\n",
    "for record in cur:\n",
    "    print(record)"
   ]
  },
  {
   "cell_type": "code",
   "execution_count": 7,
   "id": "582693fd",
   "metadata": {},
   "outputs": [
    {
     "name": "stdout",
     "output_type": "stream",
     "text": [
      "('Mumbai', 'India', 'Fall', 27.6, 346.0)\n",
      "('London', 'United Kingdom', 'Fall', 10.4, 218.5)\n",
      "('Mumbai', 'India', 'Fall', 27.6, 346.0)\n",
      "('London', 'United Kingdom', 'Fall', 10.4, 218.5)\n",
      "('Cairo', 'Egypt', 'Fall', 22.2, 4.5)\n"
     ]
    }
   ],
   "source": [
    "cur.execute(\"SELECT * FROM Climate where Season = 'Fall'\")\n",
    "for record in cur:\n",
    "    print(record)"
   ]
  },
  {
   "cell_type": "code",
   "execution_count": 12,
   "id": "7069f9f5",
   "metadata": {},
   "outputs": [
    {
     "name": "stdout",
     "output_type": "stream",
     "text": [
      "('Mumbai', 'India', 'Winter', 24.8, 5.9)\n",
      "('Mumbai', 'India', 'Spring', 28.4, 16.2)\n",
      "('Mumbai', 'India', 'Summer', 27.9, 1549.4)\n",
      "('Mumbai', 'India', 'Fall', 27.6, 346.0)\n",
      "('Mumbai', 'India', 'Winter', 24.8, 5.9)\n",
      "('Mumbai', 'India', 'Spring', 28.4, 16.2)\n",
      "('Mumbai', 'India', 'Summer', 27.9, 1549.4)\n",
      "('Mumbai', 'India', 'Fall', 27.6, 346.0)\n"
     ]
    }
   ],
   "source": [
    "cur.execute(\"SELECT * FROM Climate where Country = 'India'\")\n",
    "for record in cur:\n",
    "    print(record)"
   ]
  },
  {
   "cell_type": "code",
   "execution_count": 10,
   "id": "a874c6a5",
   "metadata": {},
   "outputs": [
    {
     "name": "stdout",
     "output_type": "stream",
     "text": [
      "('Mumbai', 'India')\n",
      "('Mumbai', 'India')\n",
      "('Cairo', 'Egypt')\n"
     ]
    }
   ],
   "source": [
    "cur.execute(\"SELECT City, Country FROM Climate where Season = 'Fall' AND Temperature > 20 ORDER BY Temperature DESC\")\n",
    "for record in cur:\n",
    "    print(record)"
   ]
  },
  {
   "cell_type": "code",
   "execution_count": 14,
   "id": "a497f1c7",
   "metadata": {},
   "outputs": [
    {
     "name": "stdout",
     "output_type": "stream",
     "text": [
      "('Mumbai', 'India', 'Fall')\n",
      "('London', 'United Kingdom', 'Winter')\n",
      "('London', 'United Kingdom', 'Fall')\n",
      "('Mumbai', 'India', 'Fall')\n",
      "('London', 'United Kingdom', 'Winter')\n",
      "('London', 'United Kingdom', 'Fall')\n"
     ]
    }
   ],
   "source": [
    "cur.execute(\"SELECT City, Country, Season FROM Climate where Rainfall >200 AND Rainfall<400\")\n",
    "for record in cur:\n",
    "    print(record)"
   ]
  },
  {
   "cell_type": "code",
   "execution_count": 16,
   "id": "2d3a67a0",
   "metadata": {},
   "outputs": [
    {
     "name": "stdout",
     "output_type": "stream",
     "text": [
      "[(27.6,)]\n"
     ]
    }
   ],
   "source": [
    "cur.execute(\"SELECT SUM(Rainfall) FROM Climate where City = 'Cairo'\")\n",
    "annual_rainfall = cur.fetchall()\n",
    "print(annual_rainfall)"
   ]
  },
  {
   "cell_type": "code",
   "execution_count": 18,
   "id": "e5b1896a",
   "metadata": {},
   "outputs": [
    {
     "name": "stdout",
     "output_type": "stream",
     "text": [
      "(1133.5, 'Fall')\n",
      "(378.09999999999997, 'Spring')\n",
      "(3412.9, 'Summer')\n",
      "(443.7, 'Winter')\n"
     ]
    }
   ],
   "source": [
    "cur.execute(\"SELECT SUM(Rainfall), Season FROM Climate GROUP BY Season\")\n",
    "for record in cur:\n",
    "    print(record)"
   ]
  },
  {
   "cell_type": "markdown",
   "id": "711a1b96",
   "metadata": {},
   "source": [
    "### Question no.9"
   ]
  },
  {
   "cell_type": "code",
   "execution_count": 3,
   "id": "e5d043d8",
   "metadata": {},
   "outputs": [
    {
     "data": {
      "text/plain": [
       "['THE', 'QUICK', 'BROWN', 'FOX', 'JUMPS', 'OVER', 'THE', 'LAZY', 'DOG']"
      ]
     },
     "execution_count": 3,
     "metadata": {},
     "output_type": "execute_result"
    }
   ],
   "source": [
    "words = ['The', 'quick', 'brown', 'fox', 'jumps', 'over', 'the', 'lazy', 'dog']\n",
    "[w.upper() for w in words]"
   ]
  },
  {
   "cell_type": "code",
   "execution_count": 21,
   "id": "1b4fa89c",
   "metadata": {},
   "outputs": [
    {
     "data": {
      "text/plain": [
       "['the', 'quick', 'brown', 'fox', 'jumps', 'over', 'the', 'lazy', 'dog']"
      ]
     },
     "execution_count": 21,
     "metadata": {},
     "output_type": "execute_result"
    }
   ],
   "source": [
    "[w.lower() for w in words]"
   ]
  },
  {
   "cell_type": "code",
   "execution_count": 22,
   "id": "34ee2b0d",
   "metadata": {},
   "outputs": [
    {
     "data": {
      "text/plain": [
       "[3, 5, 5, 3, 5, 4, 3, 4, 3]"
      ]
     },
     "execution_count": 22,
     "metadata": {},
     "output_type": "execute_result"
    }
   ],
   "source": [
    "[len(w) for w in words]"
   ]
  },
  {
   "cell_type": "code",
   "execution_count": 6,
   "id": "25392cf3",
   "metadata": {},
   "outputs": [
    {
     "data": {
      "text/plain": [
       "[['THE', 'the', 3],\n",
       " ['QUICK', 'quick', 5],\n",
       " ['BROWN', 'brown', 5],\n",
       " ['FOX', 'fox', 3],\n",
       " ['JUMPS', 'jumps', 5],\n",
       " ['OVER', 'over', 4],\n",
       " ['THE', 'the', 3],\n",
       " ['LAZY', 'lazy', 4],\n",
       " ['DOG', 'dog', 3]]"
      ]
     },
     "execution_count": 6,
     "metadata": {},
     "output_type": "execute_result"
    }
   ],
   "source": [
    "[[w.upper(),w.lower(),len(w)] for w in words]"
   ]
  },
  {
   "cell_type": "code",
   "execution_count": 5,
   "id": "8b4aede6",
   "metadata": {},
   "outputs": [
    {
     "data": {
      "text/plain": [
       "['quick', 'brown', 'jumps', 'over', 'lazy']"
      ]
     },
     "execution_count": 5,
     "metadata": {},
     "output_type": "execute_result"
    }
   ],
   "source": [
    "[w for w in words if len(w) >= 4]"
   ]
  },
  {
   "cell_type": "code",
   "execution_count": null,
   "id": "3990db4a",
   "metadata": {},
   "outputs": [],
   "source": []
  }
 ],
 "metadata": {
  "kernelspec": {
   "display_name": "Python 3 (ipykernel)",
   "language": "python",
   "name": "python3"
  },
  "language_info": {
   "codemirror_mode": {
    "name": "ipython",
    "version": 3
   },
   "file_extension": ".py",
   "mimetype": "text/x-python",
   "name": "python",
   "nbconvert_exporter": "python",
   "pygments_lexer": "ipython3",
   "version": "3.9.13"
  }
 },
 "nbformat": 4,
 "nbformat_minor": 5
}
